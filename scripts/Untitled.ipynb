{
 "cells": [
  {
   "cell_type": "code",
   "execution_count": 1,
   "metadata": {},
   "outputs": [],
   "source": [
    "import rasterio"
   ]
  },
  {
   "cell_type": "code",
   "execution_count": 3,
   "metadata": {},
   "outputs": [],
   "source": [
    "src_fn = \"/raid/nfs/data/Datasets/CosmiQ_General_Study/CORE3D-Public-Data/Satellite-Images/Jacksonville/WV2/23MAR10WV021200010MAR23162032-M1BS-501704073050_01_P001_________GA_E0AAAAAAIAAH0_corrected.vrt\""
   ]
  },
  {
   "cell_type": "code",
   "execution_count": 4,
   "metadata": {},
   "outputs": [
    {
     "name": "stderr",
     "output_type": "stream",
     "text": [
      "/home/dlindenbaum/miniconda3/envs/cw_environment/lib/python3.6/site-packages/rasterio/__init__.py:221: NotGeoreferencedWarning: Dataset has no geotransform set. The identity matrix may be returned.\n",
      "  s = DatasetReader(path, driver=driver, **kwargs)\n"
     ]
    }
   ],
   "source": [
    "src = rasterio.open(src_fn)"
   ]
  },
  {
   "cell_type": "code",
   "execution_count": 5,
   "metadata": {},
   "outputs": [
    {
     "data": {
      "text/plain": [
       "{'driver': 'VRT',\n",
       " 'dtype': 'uint16',\n",
       " 'nodata': None,\n",
       " 'width': 9216,\n",
       " 'height': 8192,\n",
       " 'count': 8,\n",
       " 'crs': None,\n",
       " 'transform': Affine(1.0, 0.0, 0.0,\n",
       "        0.0, 1.0, 0.0)}"
      ]
     },
     "execution_count": 5,
     "metadata": {},
     "output_type": "execute_result"
    }
   ],
   "source": [
    "src.meta"
   ]
  },
  {
   "cell_type": "code",
   "execution_count": 7,
   "metadata": {},
   "outputs": [
    {
     "data": {
      "text/plain": [
       "{'NITF_ABPP': '11',\n",
       " 'NITF_CCS_COLUMN': '0',\n",
       " 'NITF_CCS_ROW': '0',\n",
       " 'NITF_CLEVEL': '06',\n",
       " 'NITF_ENCRYP': '0',\n",
       " 'NITF_FBKGC': '126,126,126',\n",
       " 'NITF_FDT': '20180209195305',\n",
       " 'NITF_FHDR': 'NITF02.10',\n",
       " 'NITF_FSCLAS': 'U',\n",
       " 'NITF_FSCLSY': 'US',\n",
       " 'NITF_FSCOP': '00000',\n",
       " 'NITF_FSCPYS': '00000',\n",
       " 'NITF_FSCTLH': '1',\n",
       " 'NITF_FTITLE': '23MAR10WV021200010MAR23162032-M1BS-501704073050_01_P001         GA E0AAAAAAIAAH0',\n",
       " 'NITF_IALVL': '0',\n",
       " 'NITF_IC': 'C8',\n",
       " 'NITF_ICAT': 'MS',\n",
       " 'NITF_ICORDS': 'G',\n",
       " 'NITF_IDATIM': '20100323162032',\n",
       " 'NITF_IDLVL': '1',\n",
       " 'NITF_IGEOLO': '302153N0814327W302152N0813311W301415N0813312W301415N0814327W',\n",
       " 'NITF_IID1': 'M1043AB000',\n",
       " 'NITF_IID2': '23MAR10WV021200010MAR23162032-M1BS-501704073050_01_P001         GA E0AAAAAAIAAH0',\n",
       " 'NITF_ILOC_COLUMN': '0',\n",
       " 'NITF_ILOC_ROW': '0',\n",
       " 'NITF_IMAG': '1.0 ',\n",
       " 'NITF_IMAGE_COMMENTS': 'The imagery and metadata data on this media is the property of                  DigitalGlobe and is licensed for use only. All use must be in                   accordance with the terms of the license that accompanies the media.            If the license is purchased under contract NMA 301 99 D003, use is              in accordance with the license therein                                          ',\n",
       " 'NITF_IMODE': 'B',\n",
       " 'NITF_IREP': 'MULTI',\n",
       " 'NITF_ISCLAS': 'U',\n",
       " 'NITF_ISCLSY': 'US',\n",
       " 'NITF_ISCTLH': '1',\n",
       " 'NITF_ISORCE': 'DigitalGlobe',\n",
       " 'NITF_OSTAID': 'NDL-W',\n",
       " 'NITF_PJUST': 'R',\n",
       " 'NITF_PVTYPE': 'INT',\n",
       " 'NITF_STYPE': 'BF01'}"
      ]
     },
     "execution_count": 7,
     "metadata": {},
     "output_type": "execute_result"
    }
   ],
   "source": [
    "src.tags()"
   ]
  },
  {
   "cell_type": "code",
   "execution_count": null,
   "metadata": {},
   "outputs": [],
   "source": []
  }
 ],
 "metadata": {
  "kernelspec": {
   "display_name": "Python [conda env:cw_environment]",
   "language": "python",
   "name": "conda-env-cw_environment-py"
  },
  "language_info": {
   "codemirror_mode": {
    "name": "ipython",
    "version": 3
   },
   "file_extension": ".py",
   "mimetype": "text/x-python",
   "name": "python",
   "nbconvert_exporter": "python",
   "pygments_lexer": "ipython3",
   "version": "3.6.5"
  }
 },
 "nbformat": 4,
 "nbformat_minor": 2
}

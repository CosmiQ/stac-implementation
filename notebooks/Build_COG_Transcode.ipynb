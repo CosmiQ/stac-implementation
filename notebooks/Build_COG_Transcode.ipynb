{
 "cells": [
  {
   "cell_type": "markdown",
   "metadata": {},
   "source": [
    "# This notebook builds bash script for transcoding VRTs to COGs using marblecutter-tools\n"
   ]
  },
  {
   "cell_type": "code",
   "execution_count": null,
   "metadata": {},
   "outputs": [],
   "source": [
    "## Collect imagery Summary\n",
    "\n",
    "from os import walk\n",
    "import os\n",
    "f = []\n",
    "ftype = []\n",
    "mypath = '/raid/nfs/data/Datasets/CosmiQ_General_Study/CORE3D-Public-Data/Satellite-Images/'\n",
    "for (dirpath, dirnames, filenames) in walk(mypath):\n",
    "    print(os.path.basename(dirpath))\n",
    "    \n",
    "    f.extend([os.path.join(dirpath, file) for file in filenames])\n",
    "    ftype.extend([os.path.basename(dirpath) for file in filenames])\n",
    "\n",
    "basename_list = []\n",
    "ext_list      = []\n",
    "\n",
    "cell_list = {}\n",
    "idstr_list = []\n",
    "imtype_list = []\n",
    "sloc_list = []\n",
    "fNew = []\n",
    "for file in f:\n",
    "    try:\n",
    "        basename = os.path.basename(file)\n",
    "        basesplit = basename.split('-')\n",
    "        idStr = basesplit[0]\n",
    "        imType = basesplit[1]\n",
    "\n",
    "\n",
    "        idstr_list.append(basesplit[0])\n",
    "        imtype_list.append(basesplit[1])\n",
    "        basename_list.append(os.path.basename(file))\n",
    "        ext_list.append(os.path.splitext(file)[1])\n",
    "        sloc_list.append(file.replace('/raid/nfs/data/Datasets/CosmiQ_General_Study/CORE3D-Public-Data/', 's3://spacenet-dataset/CORE3D-Public-Data/')\n",
    "                        )\n",
    "        fNew.append(file)\n",
    "    except:\n",
    "        print(\"error\")\n",
    "    \n",
    "import pandas as pd\n",
    "\n",
    "dataList = {'idstr': idstr_list,\n",
    "           \"imtype\": imtype_list,\n",
    "           \"basename\": basename_list,\n",
    "           \"ext\": ext_list,\n",
    "           \"filepath\": fNew,\n",
    "            \"s3loc\": sloc_list\n",
    "           }\n",
    "df = pd.DataFrame(dataList) "
   ]
  },
  {
   "cell_type": "code",
   "execution_count": null,
   "metadata": {},
   "outputs": [],
   "source": [
    "dockerCommandList = []\n",
    "dockerCommandString = \"time docker run -v /raid/nfs/data:/raid/nfs/data quay.io/mojodna/marblecutter-tools transcode.sh {} {}\"\n",
    "for vrt_path in (df[df['ext']=='.vrt']['filepath'].values):\n",
    "    cog_path = vrt_path.replace('.vrt', '_lv1.tif')\n",
    "    dockerCommandList.append(dockerCommandString.format(vrt_path, cog_path))\n",
    "\n",
    "with open('/raid/nfs/data/Datasets/CosmiQ_General_Study/CORE3D-Public-Data/create_cogs.sh', mode='wt', encoding='utf-8') as myfile:\n",
    "    myfile.write('\\n'.join(dockerCommandList))"
   ]
  },
  {
   "cell_type": "code",
   "execution_count": null,
   "metadata": {},
   "outputs": [],
   "source": [
    "df['ext'].unique()"
   ]
  },
  {
   "cell_type": "code",
   "execution_count": null,
   "metadata": {},
   "outputs": [],
   "source": []
  }
 ],
 "metadata": {
  "kernelspec": {
   "display_name": "Python [conda env:cw_environment]",
   "language": "python",
   "name": "conda-env-cw_environment-py"
  },
  "language_info": {
   "codemirror_mode": {
    "name": "ipython",
    "version": 3
   },
   "file_extension": ".py",
   "mimetype": "text/x-python",
   "name": "python",
   "nbconvert_exporter": "python",
   "pygments_lexer": "ipython3",
   "version": "3.6.5"
  }
 },
 "nbformat": 4,
 "nbformat_minor": 2
}

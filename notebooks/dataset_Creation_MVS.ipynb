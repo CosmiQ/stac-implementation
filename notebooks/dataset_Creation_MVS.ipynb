{
 "cells": [
  {
   "cell_type": "markdown",
   "metadata": {},
   "source": [
    "## Convert SpaceNet Dataset to Stac Compliant"
   ]
  },
  {
   "cell_type": "code",
   "execution_count": null,
   "metadata": {},
   "outputs": [],
   "source": [
    "import rasterio\n",
    "import shapely\n",
    "import sys,os,os.path\n",
    "\n",
    "# Rasterio python expect ssl certs in Centos location\n",
    "os.environ['CURL_CA_BUNDLE']='/etc/ssl/certs/ca-certificates.crt'"
   ]
  },
  {
   "cell_type": "code",
   "execution_count": null,
   "metadata": {},
   "outputs": [],
   "source": [
    "from spacenet_stac.stac_item import spacenetStacItem\n",
    "\n",
    "def writeStac_Item(out_file, stac_path, cog_path, imd_path, thumbnail_path, idStr=[]):\n",
    "    \n",
    "    linkDict = {\"self\": {\"rel\":\"self\",\n",
    "                        \"href\":stac_path},\n",
    "                \"collection\": {\"rel\": \"collection\",\n",
    "                              \"href\": \"s3://spacenet-stac/spacenet-dataset.json\"}\n",
    "               }\n",
    "    assetDict = {\"MUL-PanSharpen\": {\"href\": cog_path,\n",
    "                                   \"type\": \"cog\",\n",
    "                                   \"name\": '8-Band Pan Sharpened COG'},\n",
    "             \"imd\": {\"href\": imd_path,\n",
    "                    \"type\": \"imd file\",\n",
    "                    \"name\": \"imd metadata\"},\n",
    "             \"thumbnail\": {\"href\": thumbnail_path,\n",
    "                          \"type\": \"thumbnail\",\n",
    "                          \"name\": \"thumbnail\"}\n",
    "             }\n",
    "    \n",
    "    if idStr:\n",
    "        pass\n",
    "    else: \n",
    "        idStr = os.path.splitext(os.path.basename(imd_path))[0]\n",
    "    stac_Item = spacenetStacItem(rasterPath=cog_path, \n",
    "                                 provider='DigitalGlobe', \n",
    "                                 license=\"CC 4.0 BY-SA\", \n",
    "                                idStr=idStr, \n",
    "                                 assetDict=assetDict, \n",
    "                                 imdPath=imd_path, \n",
    "                                 links=linkDict)\n",
    "    \n",
    "    stac_Item.write_toJSON(out_file)\n",
    "\n",
    "    \n",
    "    return stac_Item\n",
    "localSave = \"/raid/nfs/workingDir/spacenet-stac/spacenet-dataset/\""
   ]
  },
  {
   "cell_type": "code",
   "execution_count": null,
   "metadata": {},
   "outputs": [],
   "source": [
    "%%time\n",
    "\n",
    "## AOI 2 Vegas\n",
    "\n",
    "spacenetStacLocation = \"https://s3.amazonaws.com/spacenet-stac/\"\n",
    "\n",
    "cog_path = \"s3://spacenet-dataset/AOI_2_Vegas/srcData/rasterData/AOI_2_Vegas_MUL-PanSharpen_Cloud.tif\"\n",
    "stac_path = spacenetStacLocation + \"spacenet-dataset/\"+ os.path.splitext(os.path.basename(cog_path))[0]+\".json\"\n",
    "imd_path = 's3://spacenet-dataset/AOI_2_Vegas/srcData/rasterData/Vegas_Imagery/15OCT22183656-M2AS-055649178030_01_P001.XML'\n",
    "thumbnail_path = 's3://spacenet-dataset/AOI_2_Vegas/srcData/rasterData/Vegas_Imagery/15OCT22183656-M2AS-055649178030_01_P001-BROWSE.JPG'\n",
    "out_file = localSave + os.path.splitext(os.path.basename(cog_path))[0]+\".json\"\n",
    "idStr = 'AOI_2_Vegas_MUL-PanSharpen'\n",
    "writeStac_Item(out_file, stac_path, cog_path, imd_path, thumbnail_path, idStr=idStr)"
   ]
  },
  {
   "cell_type": "code",
   "execution_count": null,
   "metadata": {},
   "outputs": [],
   "source": [
    "%%time\n",
    "\n",
    "## AOI 3 Paris\n",
    "\n",
    "spacenetStacLocation = \"https://s3.amazonaws.com/spacenet-stac/\"\n",
    "\n",
    "cog_path = \"s3://spacenet-dataset/AOI_3_Paris/srcData/rasterData/AOI_3_Paris_MUL-PanSharpen_Cloud.tif\"\n",
    "stac_path = spacenetStacLocation + \"spacenet-dataset/\"+ os.path.splitext(os.path.basename(cog_path))[0]+\".json\"\n",
    "imd_path = 's3://spacenet-dataset/AOI_3_Paris/srcData/rasterData/Paris_Imagery/16FEB29111913-M2AS-055649178040_01_P001.XML'\n",
    "thumbnail_path = 's3://spacenet-dataset/AOI_3_Paris/srcData/rasterData/Paris_Imagery/16FEB29111913-M2AS-055649178040_01_P001-BROWSE.JPG'\n",
    "out_file = localSave + os.path.splitext(os.path.basename(cog_path))[0]+\".json\"\n",
    "idStr = 'AOI_3_Paris_MUL-PanSharpen'\n",
    "\n",
    "\n",
    "writeStac_Item(out_file, stac_path, cog_path, imd_path, thumbnail_path, idStr=idStr)"
   ]
  },
  {
   "cell_type": "code",
   "execution_count": null,
   "metadata": {},
   "outputs": [],
   "source": [
    "%%time\n",
    "\n",
    "## AOI 4 Shanghai\n",
    "\n",
    "spacenetStacLocation = \"https://s3.amazonaws.com/spacenet-stac/\"\n",
    "\n",
    "cog_path = \"s3://spacenet-dataset/AOI_4_Shanghai/srcData/rasterData/AOI_4_Shanghai_MUL-PanSharpen_Cloud.tif\"\n",
    "stac_path = spacenetStacLocation + \"spacenet-dataset/\"+ os.path.splitext(os.path.basename(cog_path))[0]+\".json\"\n",
    "imd_path = 's3://spacenet-dataset/AOI_4_Shanghai/srcData/rasterData/Shanghai_Imagery/15JUN06023537-M2AS-055649178010_01_P001.XML'\n",
    "thumbnail_path = 's3://spacenet-dataset/AOI_4_Shanghai/srcData/rasterData/Shanghai_Imagery/15JUN06023537-P2AS-055649178010_01_P001-BROWSE.JPG'\n",
    "out_file = localSave + os.path.splitext(os.path.basename(cog_path))[0]+\".json\"\n",
    "idStr = 'AOI_4_Shanghai_MUL-PanSharpen'\n",
    "\n",
    "writeStac_Item(out_file, stac_path, cog_path, imd_path, thumbnail_path, idStr=idStr)"
   ]
  },
  {
   "cell_type": "code",
   "execution_count": null,
   "metadata": {},
   "outputs": [],
   "source": [
    "%%time\n",
    "\n",
    "## AOI 5 Khartoum\n",
    "\n",
    "spacenetStacLocation = \"https://s3.amazonaws.com/spacenet-stac/\"\n",
    "\n",
    "cog_path = \"s3://spacenet-dataset/AOI_5_Khartoum/srcData/rasterData/AOI_5_Khartoum_MUL-PanSharpen_Cloud.tif\"\n",
    "stac_path = spacenetStacLocation + \"spacenet-dataset/\"+ os.path.splitext(os.path.basename(cog_path))[0]+\".json\"\n",
    "imd_path = 's3://spacenet-dataset/AOI_5_Khartoum/srcData/rasterData/Khartoum_Imagery/15APR13081815-M2AS-055649178020_01_P001.XML'\n",
    "thumbnail_path = 's3://spacenet-dataset/AOI_5_Khartoum/srcData/rasterData/Khartoum_Imagery/15APR13081815-M2AS-055649178020_01_P001-BROWSE.JPG'\n",
    "out_file = localSave + os.path.splitext(os.path.basename(cog_path))[0]+\".json\"\n",
    "idStr = 'AOI_5_Khartoum_MUL-PanSharpen'\n",
    "\n",
    "writeStac_Item(out_file, stac_path, cog_path, imd_path, thumbnail_path, idStr=idStr)"
   ]
  },
  {
   "cell_type": "code",
   "execution_count": null,
   "metadata": {},
   "outputs": [],
   "source": [
    "\n"
   ]
  },
  {
   "cell_type": "markdown",
   "metadata": {},
   "source": [
    "#https://github.com/radiantearth/stac-spec/blob/dev/json-spec/examples/digitalglobe-sample.json\n",
    "    "
   ]
  },
  {
   "cell_type": "markdown",
   "metadata": {},
   "source": [
    "https://github.com/radiantearth/stac-spec/blob/dev/json-spec/examples/digitalglobe-sample.json"
   ]
  },
  {
   "cell_type": "code",
   "execution_count": null,
   "metadata": {},
   "outputs": [],
   "source": []
  },
  {
   "cell_type": "code",
   "execution_count": null,
   "metadata": {},
   "outputs": [],
   "source": []
  },
  {
   "cell_type": "code",
   "execution_count": null,
   "metadata": {},
   "outputs": [],
   "source": []
  },
  {
   "cell_type": "code",
   "execution_count": null,
   "metadata": {},
   "outputs": [],
   "source": []
  },
  {
   "cell_type": "code",
   "execution_count": null,
   "metadata": {},
   "outputs": [],
   "source": []
  },
  {
   "cell_type": "code",
   "execution_count": null,
   "metadata": {},
   "outputs": [],
   "source": []
  },
  {
   "cell_type": "code",
   "execution_count": null,
   "metadata": {},
   "outputs": [],
   "source": [
    "\n"
   ]
  },
  {
   "cell_type": "code",
   "execution_count": null,
   "metadata": {},
   "outputs": [],
   "source": []
  },
  {
   "cell_type": "code",
   "execution_count": null,
   "metadata": {},
   "outputs": [],
   "source": []
  },
  {
   "cell_type": "code",
   "execution_count": null,
   "metadata": {},
   "outputs": [],
   "source": []
  },
  {
   "cell_type": "code",
   "execution_count": null,
   "metadata": {},
   "outputs": [],
   "source": []
  },
  {
   "cell_type": "code",
   "execution_count": null,
   "metadata": {},
   "outputs": [],
   "source": []
  },
  {
   "cell_type": "code",
   "execution_count": null,
   "metadata": {},
   "outputs": [],
   "source": []
  },
  {
   "cell_type": "code",
   "execution_count": null,
   "metadata": {},
   "outputs": [],
   "source": []
  },
  {
   "cell_type": "code",
   "execution_count": null,
   "metadata": {},
   "outputs": [],
   "source": []
  },
  {
   "cell_type": "code",
   "execution_count": null,
   "metadata": {},
   "outputs": [],
   "source": []
  },
  {
   "cell_type": "code",
   "execution_count": null,
   "metadata": {},
   "outputs": [],
   "source": []
  },
  {
   "cell_type": "code",
   "execution_count": null,
   "metadata": {},
   "outputs": [],
   "source": []
  },
  {
   "cell_type": "code",
   "execution_count": null,
   "metadata": {},
   "outputs": [],
   "source": []
  },
  {
   "cell_type": "code",
   "execution_count": null,
   "metadata": {},
   "outputs": [],
   "source": []
  },
  {
   "cell_type": "code",
   "execution_count": null,
   "metadata": {},
   "outputs": [],
   "source": []
  },
  {
   "cell_type": "code",
   "execution_count": null,
   "metadata": {},
   "outputs": [],
   "source": []
  },
  {
   "cell_type": "code",
   "execution_count": null,
   "metadata": {},
   "outputs": [],
   "source": []
  }
 ],
 "metadata": {
  "kernelspec": {
   "display_name": "Python [conda env:cw_environment]",
   "language": "python",
   "name": "conda-env-cw_environment-py"
  },
  "language_info": {
   "codemirror_mode": {
    "name": "ipython",
    "version": 3
   },
   "file_extension": ".py",
   "mimetype": "text/x-python",
   "name": "python",
   "nbconvert_exporter": "python",
   "pygments_lexer": "ipython3",
   "version": "3.6.5"
  }
 },
 "nbformat": 4,
 "nbformat_minor": 2
}

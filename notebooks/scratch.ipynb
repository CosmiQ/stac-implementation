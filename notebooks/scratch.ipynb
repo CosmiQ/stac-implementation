{
 "cells": [
  {
   "cell_type": "code",
   "execution_count": null,
   "metadata": {},
   "outputs": [],
   "source": [
    "utm_bounds = (652036.1651090909, 3998726.3249221705, 666254.6274175395, 4014808.742985228)\n",
    "utmX, utmY = 658029, 4006947\n",
    "ll_x = utmX\n",
    "ur_x = utmX + 500\n",
    "ll_y = utmY\n",
    "ur_y = utmY + 500\n",
    "stride_size_meters = 300\n",
    "cell_size_meters = 400\n",
    "tile_size_pixels = 1600"
   ]
  },
  {
   "cell_type": "code",
   "execution_count": null,
   "metadata": {},
   "outputs": [],
   "source": [
    "import math\n",
    "import numpy as np\n"
   ]
  },
  {
   "cell_type": "code",
   "execution_count": null,
   "metadata": {},
   "outputs": [],
   "source": [
    "npx = len(np.arange(math.floor(utm_bounds[0]),math.ceil(utm_bounds[2]), stride_size_meters))\n",
    "npy = len(np.arange(math.floor(utm_bounds[1]),math.ceil(utm_bounds[3]), stride_size_meters))\n",
    "\n",
    "print(\"npx:{}\".format(npx))\n",
    "print(\"npy:{}\".format(npy))\n",
    "print(\"npx*npy={}\".format(npx*npy))"
   ]
  },
  {
   "cell_type": "code",
   "execution_count": null,
   "metadata": {},
   "outputs": [],
   "source": []
  }
 ],
 "metadata": {
  "kernelspec": {
   "display_name": "Python [conda env:cw_environment]",
   "language": "python",
   "name": "conda-env-cw_environment-py"
  },
  "language_info": {
   "codemirror_mode": {
    "name": "ipython",
    "version": 3
   },
   "file_extension": ".py",
   "mimetype": "text/x-python",
   "name": "python",
   "nbconvert_exporter": "python",
   "pygments_lexer": "ipython3",
   "version": "3.6.5"
  }
 },
 "nbformat": 4,
 "nbformat_minor": 2
}

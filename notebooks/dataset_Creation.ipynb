{
 "cells": [
  {
   "cell_type": "markdown",
   "metadata": {},
   "source": [
    "## Convert SpaceNet Dataset to Stac Compliant"
   ]
  },
  {
   "cell_type": "code",
   "execution_count": 1,
   "metadata": {},
   "outputs": [],
   "source": [
    "import rasterio\n",
    "import shapely\n",
    "import sys,os,os.path\n",
    "\n",
    "# Rasterio python expect ssl certs in Centos location\n",
    "os.environ['CURL_CA_BUNDLE']='/etc/ssl/certs/ca-certificates.crt'"
   ]
  },
  {
   "cell_type": "code",
   "execution_count": 3,
   "metadata": {},
   "outputs": [],
   "source": [
    "from spacenet_stac.stac_item import spacenetStacItem"
   ]
  },
  {
   "cell_type": "code",
   "execution_count": 4,
   "metadata": {},
   "outputs": [
    {
     "name": "stderr",
     "output_type": "stream",
     "text": [
      "/raid/nfs/workingDir/dlindenbaum/spacenet-stac/spacenet_stac/stac_item.py:45: RasterioDeprecationWarning: Creation keywords stored on datasets by Rasterio versions < 1.0b1 will always be ignored in version 1.0. You may opt in to ignoring them now by setting RIO_IGNORE_CREATION_KWDS=TRUE in your environment.\n",
      "  profile = dataset.profile\n"
     ]
    },
    {
     "name": "stdout",
     "output_type": "stream",
     "text": [
      "{'type': 'Polygon', 'coordinates': [[[-115.307518, 36.263959], [-115.307518, 36.121278], [-115.152608, 36.121278], [-115.152608, 36.263959], [-115.307518, 36.263959]]]}\n",
      "{'id': '15OCT22183656-P2AS-055649178030_01_P001', 'type': 'Feature', 'geometry': {'type': 'Polygon', 'coordinates': [[[-115.307518, 36.263959], [-115.307518, 36.121278], [-115.152608, 36.121278], [-115.152608, 36.263959], [-115.307518, 36.263959]]]}, 'properties': {'eo:sun_azimuth': '1.640000000000000e+02', 'eo:cloud_cover': '0.000000000000000e+00', 'eo:off_nadir': '1.680000000000000e+01', 'eo:azimuth': '1.506000000000000e+02', 'eo:platform': 'WV03', 'eo:sun_elevation': '4.150000000000000e+01', 'eo:gsd': '3.330000000000000e-01', 'eo:crs': '', 'dg:catalog_id': '10400100137F4900', 'dg:platform': 'WV03', 'dg:product_level': 'LV2A', 'datetime': '2015-10-22T18:36:56.065137Z', 'provider': 'DigitalGlobe', 'license': 'CC 4.0 BY-SA'}, 'assets': {'MUL-PanSharpen': {'href': 's3://spacenet-dataset/AOI_2_Vegas/srcData/rasterData/AOI_2_Vegas_MUL-PanSharpen_Cloud.tif'}, 'imd': {'href': 's3://spacenet-dataset/AOI_2_Vegas/srcData/rasterData/Vegas_Imagery/15OCT22183656-M2AS-055649178030_01_P001.XML'}, 'thumbnail': {'href': 's3://spacenet-dataset/AOI_2_Vegas/srcData/rasterData/Vegas_Imagery/15OCT22183656-M2AS-055649178030_01_P001-BROWSE.JPG'}}, 'links': {'self': {'rel': 'self', 'href': 's3://spacenet-dataset/AOI_2_Vegas/srcData/rasterData/AOI_2_Vegas_MUL-PanSharpen_Cloud.tif'}, 'collection': {'rel': 'collection', 'href': 's3://spacenet-stac/AOI_2_Catalog.json'}}}\n",
      "CPU times: user 40.6 s, sys: 6.21 s, total: 46.8 s\n",
      "Wall time: 46.9 s\n"
     ]
    }
   ],
   "source": [
    "%%time\n",
    "spacenetPath = \"s3://spacenet-dataset/AOI_2_Vegas/srcData/rasterData/AOI_2_Vegas_MUL-PanSharpen_Cloud.tif\"\n",
    "spacenetPath2 = \"/raid/nfs/data/Datasets/CosmiQ_SpaceNet_Src/AOI_2_Vegas/srcData/rasterData/AOI_2_Vegas_MUL-PanSharpen_Cloud.tif\"\n",
    "xmlTest = '/raid/nfs/data/Datasets/CosmiQ_SpaceNet_Src/AOI_2_Vegas/srcData/rasterData/Vegas_Imagery/15OCT22183656-P2AS-055649178030_01_P001.XML'\n",
    "\n",
    "linkDict = {\"self\": {\"rel\":\"self\",\n",
    "                    \"href\":spacenetPath},\n",
    "            \"collection\": {\"rel\": \"collection\",\n",
    "                          \"href\": \"s3://spacenet-stac/AOI_2_Catalog.json\"}\n",
    "           }\n",
    "\n",
    "spacenetCogPath = spacenetPath\n",
    "spacenetIMD = 's3://spacenet-dataset/AOI_2_Vegas/srcData/rasterData/Vegas_Imagery/15OCT22183656-M2AS-055649178030_01_P001.XML'\n",
    "thumbNailPath = 's3://spacenet-dataset/AOI_2_Vegas/srcData/rasterData/Vegas_Imagery/15OCT22183656-M2AS-055649178030_01_P001-BROWSE.JPG'\n",
    "assetDict = {\"MUL-PanSharpen\": {\"href\": spacenetCogPath},\n",
    "         \"imd\": {\"href\": spacenetIMD},\n",
    "         \"thumbnail\": {\"href\": thumbNailPath}\n",
    "         }\n",
    "stac_Item = spacenetStacItem(rasterPath=spacenetPath2, \n",
    "                             provider='DigitalGlobe', \n",
    "                             license=\"CC 4.0 BY-SA\", \n",
    "                            idStr='15OCT22183656-P2AS-055649178030_01_P001', \n",
    "                             assetDict=assetDict, \n",
    "                             imdPath=xmlTest, \n",
    "                             links=linkDict)\n",
    "\n",
    "\n",
    "print(stac_Item.stac_item)\n",
    "stac_Item.write_toJSON(\"/raid/nfs/workingDir/AOI_2_Vegas_-stac_v1.json\")"
   ]
  },
  {
   "cell_type": "markdown",
   "metadata": {},
   "source": [
    "#https://github.com/radiantearth/stac-spec/blob/dev/json-spec/examples/digitalglobe-sample.json\n",
    "    "
   ]
  },
  {
   "cell_type": "markdown",
   "metadata": {},
   "source": [
    "https://github.com/radiantearth/stac-spec/blob/dev/json-spec/examples/digitalglobe-sample.json"
   ]
  },
  {
   "cell_type": "code",
   "execution_count": 76,
   "metadata": {},
   "outputs": [],
   "source": [
    "import xml.etree.ElementTree as ET\n",
    "import json\n",
    "\n",
    "def iterate_OverXML(root, recursionTagList=[], metaDataStruct={}):\n",
    "    \n",
    "    for child in root:\n",
    "        if child.tag in recursionTagList:\n",
    "            metaDataStruct = iterate_OverXML(child, recursionTagList, metaDataStruct)\n",
    "        else:\n",
    "            metaDataStruct[child.tag] = child.text\n",
    "    \n",
    "    return metaDataStruct\n",
    "            \n",
    "\n",
    "class spacenetStacItem:\n",
    "    \n",
    "    def __init__(self, rasterPath, provider, license, idStr, assetDict, imdPath=[], links=[]):\n",
    "    \n",
    "        self.rasterPath = rasterPath\n",
    "        self.provider   = provider\n",
    "        self.license    = license\n",
    "        self.id         = idStr\n",
    "        self.stac_item   = {\"id\": idStr,\n",
    "                            \"type\": \"Feature\",\n",
    "                            \"geometry\": self.calcGeometry()  \n",
    "                           }\n",
    "        \n",
    "        if imdPath:\n",
    "            self.stac_item['properties']=self.createProperties_EO(imdPath)\n",
    "            \n",
    "        self.stac_item['assets']=assetDict\n",
    "        self.stac_item['links'] = links\n",
    "            \n",
    "        \n",
    "        \n",
    "        \n",
    "        \n",
    "        \n",
    "    def calcGeometry(self):\n",
    "        \n",
    "        with rasterio.open(self.rasterPath) as dataset:\n",
    "            profile = dataset.profile\n",
    "                # Read the dataset's valid data mask as a ndarray.\n",
    "            mask = dataset.dataset_mask()\n",
    "            # Extract feature shapes and values from the array.\n",
    "            for geom, val in features.shapes(\n",
    "                    mask, transform=dataset.transform):\n",
    "\n",
    "                # Transform shapes from the dataset's own coordinate\n",
    "                # reference system to CRS84 (EPSG:4326).\n",
    "                geom = rasterio.warp.transform_geom(\n",
    "                    dataset.crs, 'EPSG:4326', geom, precision=6)\n",
    "\n",
    "                # Print GeoJSON shapes to stdout.\n",
    "                print(geom)\n",
    "        \n",
    "        self.geometry=geom\n",
    "        \n",
    "        return geom\n",
    "        \n",
    "    \n",
    "    def createAssetList(self):\n",
    "        pass\n",
    "    \n",
    "    \n",
    "    def createProperties_EO(self, imdPath):\n",
    "        eo_prop_dict = {}\n",
    "        tree = ET.parse(imdPath)\n",
    "        root = tree.getroot()\n",
    "        self.metaDataStruct = iterate_OverXML(root, recursionTagList=['IMD', 'IMAGE'])\n",
    "        self.eoDict = self.processMetaData_To_Properties(self.metaDataStruct, self.provider, self.license)\n",
    "        \n",
    "        return self.eoDict\n",
    "        \n",
    "\n",
    "    def processMetaData_To_Properties(self, metaDataStruct, provider, license):\n",
    "        eoDict = {\n",
    "            \"eo:sun_azimuth\": metaDataStruct['MEANSUNAZ'],\n",
    "            \"eo:cloud_cover\": metaDataStruct['CLOUDCOVER'],\n",
    "            \"eo:off_nadir\": metaDataStruct['MEANOFFNADIRVIEWANGLE'],\n",
    "            \"eo:azimuth\": metaDataStruct['MEANSATAZ'],\n",
    "            \"eo:platform\": metaDataStruct['SATID'],\n",
    "            \"eo:sun_elevation\": metaDataStruct['MEANSUNEL'],\n",
    "            \"eo:gsd\": metaDataStruct['MEANCOLLECTEDGSD'],\n",
    "            \"eo:crs\": '',\n",
    "            \"dg:catalog_id\": metaDataStruct['CATID'],\n",
    "            \"dg:platform\": metaDataStruct['SATID'],\n",
    "            \"dg:product_level\": metaDataStruct['PRODUCTLEVEL'],\n",
    "            \"datetime\": metaDataStruct['FIRSTLINETIME'],\n",
    "            \"provider\": provider,\n",
    "            \"license\": license\n",
    "            }\n",
    "\n",
    "        return eoDict\n",
    "        \n",
    "    def write_toJSON(self, filename):\n",
    "        \n",
    "        with open(filename, 'w') as fp:\n",
    "            json.dump(self.stac_item, fp, indent=2)\n",
    "        \n",
    "        \n",
    "        "
   ]
  },
  {
   "cell_type": "code",
   "execution_count": 67,
   "metadata": {},
   "outputs": [
    {
     "name": "stderr",
     "output_type": "stream",
     "text": [
      "/home/dlindenbaum/miniconda3/envs/cw_environment/lib/python3.6/site-packages/ipykernel/__main__.py:42: RasterioDeprecationWarning: Creation keywords stored on datasets by Rasterio versions < 1.0b1 will always be ignored in version 1.0. You may opt in to ignoring them now by setting RIO_IGNORE_CREATION_KWDS=TRUE in your environment.\n"
     ]
    },
    {
     "name": "stdout",
     "output_type": "stream",
     "text": [
      "{'type': 'Polygon', 'coordinates': [[[-115.307518, 36.263959], [-115.307518, 36.121278], [-115.152608, 36.121278], [-115.152608, 36.263959], [-115.307518, 36.263959]]]}\n",
      "CPU times: user 39.6 s, sys: 22.9 s, total: 1min 2s\n",
      "Wall time: 1min 2s\n"
     ]
    }
   ],
   "source": [
    "%%time\n",
    "from rasterio import features\n",
    "spacenetPath = \"s3://spacenet-dataset/AOI_2_Vegas/srcData/rasterData/AOI_2_Vegas_MUL-PanSharpen_Cloud.tif\"\n",
    "spacenetPath2 = \"/raid/nfs/data/Datasets/CosmiQ_SpaceNet_Src/AOI_2_Vegas/srcData/rasterData/AOI_2_Vegas_MUL-PanSharpen_Cloud.tif\"\n",
    "xmlTest = '/raid/nfs/data/Datasets/CosmiQ_SpaceNet_Src/AOI_2_Vegas/srcData/rasterData/Vegas_Imagery/15OCT22183656-P2AS-055649178030_01_P001.XML'\n",
    "\n",
    "linkDict = {\"self\": {\"rel\":\"self\",\n",
    "                    \"href\":spacenetPath},\n",
    "            \"collection\": {\"rel\": \"collection\",\n",
    "                          \"href\": \"s3://spacenet-stac/AOI_2_Catalog.json\"}\n",
    "           }\n",
    "\n",
    "spacenetCogPath = spacenetPath\n",
    "spacenetIMD = 's3://spacenet-dataset/AOI_2_Vegas/srcData/rasterData/Vegas_Imagery/15OCT22183656-M2AS-055649178030_01_P001.XML'\n",
    "thumbNailPath = 's3://spacenet-dataset/AOI_2_Vegas/srcData/rasterData/Vegas_Imagery/15OCT22183656-M2AS-055649178030_01_P001-BROWSE.JPG'\n",
    "assetDict = {\"MUL-PanSharpen\": {\"href\": spacenetCogPath},\n",
    "         \"imd\": {\"href\": spacenetIMD},\n",
    "         \"thumbnail\": {\"href\": thumbNailPath}\n",
    "         }\n",
    "stac_Item = spacenetStacItem(rasterPath=spacenetPath2, provider='DigitalGlobe', license=\"CC 4.0 BY-SA\", \n",
    "                              idStr='15OCT22183656-P2AS-055649178030_01_P001', assetDict=assetDict, imdPath=xmlTest, links=linkDict)\n",
    "\n",
    "\n",
    "print(stac_Item.stac_item)\n",
    "stac_Item.write_toJSON(\"/raid/nfs/workingDir/AOI_2_Vegas_-stac_v1.json\")"
   ]
  },
  {
   "cell_type": "code",
   "execution_count": 75,
   "metadata": {},
   "outputs": [
    {
     "name": "stderr",
     "output_type": "stream",
     "text": [
      "/home/dlindenbaum/miniconda3/envs/cw_environment/lib/python3.6/site-packages/ipykernel/__main__.py:42: RasterioDeprecationWarning: Creation keywords stored on datasets by Rasterio versions < 1.0b1 will always be ignored in version 1.0. You may opt in to ignoring them now by setting RIO_IGNORE_CREATION_KWDS=TRUE in your environment.\n"
     ]
    },
    {
     "name": "stdout",
     "output_type": "stream",
     "text": [
      "{'type': 'Polygon', 'coordinates': [[[32.419148, 15.871988], [32.419148, 15.436591], [32.568782, 15.436591], [32.568782, 15.871988], [32.419148, 15.871988]]]}\n",
      "{'id': '15APR13081815-M2AS-055649178020_01_P001', 'type': 'Feature', 'geometry': {'type': 'Polygon', 'coordinates': [[[32.419148, 15.871988], [32.419148, 15.436591], [32.568782, 15.436591], [32.568782, 15.871988], [32.419148, 15.871988]]]}, 'properties': {'eo:sun_azimuth': '1.035000000000000e+02', 'eo:cloud_cover': '0.000000000000000e+00', 'eo:off_nadir': '2.430000000000000e+01', 'eo:azimuth': '1.143000000000000e+02', 'eo:platform': 'WV03', 'eo:sun_elevation': '6.650000000000000e+01', 'eo:gsd': '1.447000000000000e+00', 'eo:crs': '', 'dg:catalog_id': '104001000A6A1E00', 'dg:platform': 'WV03', 'dg:product_level': 'LV2A', 'datetime': '2015-04-13T08:18:08.557519Z', 'provider': 'DigitalGlobe', 'license': 'CC 4.0 BY-SA'}, 'assets': {'MUL-PanSharpen': {'href': 's3://spacenet-dataset/AOI_5_Khartoum/srcData/rasterData/AOI_5_Khartoum_MUL-PanSharpen_Cloud.tif'}, 'imd': {'href': 's3://spacenet-dataset/AOI_5_Khartoum/srcData/rasterData/Khartoum_Imagery/15APR13081815-M2AS-055649178020_01_P001.XML'}, 'thumbnail': {'href': 's3://spacenet-dataset/AOI_5_Khartoum/srcData/rasterData/Khartoum_Imagery/15APR13081815-M2AS-055649178020_01_P001-BROWSE.JPG'}}}\n",
      "CPU times: user 2min 3s, sys: 2min 15s, total: 4min 18s\n",
      "Wall time: 4min 19s\n"
     ]
    }
   ],
   "source": [
    "%%time\n",
    "from rasterio import features\n",
    "spacenetPath = \"s3://spacenet-dataset/AOI_5_Khartoum/srcData/rasterData/AOI_5_Khartoum_MUL-PanSharpen_Cloud.tif\"\n",
    "spacenetPath2 = \"/raid/nfs/data/Datasets/CosmiQ_SpaceNet_Src/AOI_5_Khartoum/srcData/rasterData/AOI_5_Khartoum_MUL-PanSharpen_Cloud.tif\"\n",
    "xmlTest = '/raid/nfs/data/Datasets/CosmiQ_SpaceNet_Src/AOI_5_Khartoum/srcData/rasterData/Khartoum_Imagery/15APR13081815-M2AS-055649178020_01_P001.XML'\n",
    "\n",
    "linkDict = {\"self\": {\"rel\":\"self\",\n",
    "                    \"href\":spacenetPath},\n",
    "            \"collection\": {\"rel\": \"collection\",\n",
    "                          \"href\": \"s3://spacenet-stac/AOI_5_Catalog.json\"}\n",
    "           }\n",
    "\n",
    "spacenetCogPath = spacenetPath\n",
    "spacenetIMD = 's3://spacenet-dataset/AOI_5_Khartoum/srcData/rasterData/Khartoum_Imagery/15APR13081815-M2AS-055649178020_01_P001.XML'\n",
    "thumbNailPath = 's3://spacenet-dataset/AOI_5_Khartoum/srcData/rasterData/Khartoum_Imagery/15APR13081815-M2AS-055649178020_01_P001-BROWSE.JPG'\n",
    "assetDict = {\"MUL-PanSharpen\": {\"href\": spacenetCogPath},\n",
    "         \"imd\": {\"href\": spacenetIMD},\n",
    "         \"thumbnail\": {\"href\": thumbNailPath}\n",
    "         }\n",
    "stac_Item = spacenetStacItem(rasterPath=spacenetPath2, provider='DigitalGlobe', license=\"CC 4.0 BY-SA\", \n",
    "                              idStr='15APR13081815-M2AS-055649178020_01_P001', assetDict=assetDict, imdPath=xmlTest, links=linkDict)\n",
    "\n",
    "\n",
    "print(stac_Item.stac_item)\n",
    "stac_Item.write_toJSON(\"/raid/nfs/workingDir/AOI_5_Vegas_-stac_v1.json\")"
   ]
  },
  {
   "cell_type": "code",
   "execution_count": 71,
   "metadata": {},
   "outputs": [
    {
     "name": "stdout",
     "output_type": "stream",
     "text": [
      "{'id': '15OCT22183656-P2AS-055649178030_01_P001', 'type': 'Feature', 'geometry': {'type': 'Polygon', 'coordinates': [[[-115.307518, 36.263959], [-115.307518, 36.121278], [-115.152608, 36.121278], [-115.152608, 36.263959], [-115.307518, 36.263959]]]}, 'properties': {'eo:sun_azimuth': '1.640000000000000e+02', 'eo:cloud_cover': '0.000000000000000e+00', 'eo:off_nadir': '1.680000000000000e+01', 'eo:azimuth': '1.506000000000000e+02', 'eo:platform': 'WV03', 'eo:sun_elevation': '4.150000000000000e+01', 'eo:gsd': '3.330000000000000e-01', 'eo:crs': '', 'dg:catalog_id': '10400100137F4900', 'dg:platform': 'WV03', 'dg:product_level': 'LV2A', 'datetime': '2015-10-22T18:36:56.065137Z', 'provider': 'DigitalGlobe', 'license': 'CC 4.0 BY-SA'}, 'assets': {'MUL-PanSharpen': {'href': 's3://spacenet-dataset/AOI_2_Vegas/srcData/rasterData/AOI_2_Vegas_MUL-PanSharpen_Cloud.tif'}, 'imd': {'href': 's3://spacenet-dataset/AOI_2_Vegas/srcData/rasterData/Vegas_Imagery/15OCT22183656-M2AS-055649178030_01_P001.XML'}, 'thumbnail': {'href': 's3://spacenet-dataset/AOI_2_Vegas/srcData/rasterData/Vegas_Imagery/15OCT22183656-M2AS-055649178030_01_P001-BROWSE.JPG'}}}\n"
     ]
    }
   ],
   "source": [
    "print(stac_Item.stac_item)\n",
    "stac_Item.write_toJSON(\"/raid/nfs/workingDir/AOI_2_Vegas_-stac_v1.json\")"
   ]
  },
  {
   "cell_type": "code",
   "execution_count": 12,
   "metadata": {},
   "outputs": [
    {
     "name": "stderr",
     "output_type": "stream",
     "text": [
      "/home/dlindenbaum/miniconda3/envs/cw_environment/lib/python3.6/site-packages/ipykernel/__main__.py:5: RasterioDeprecationWarning: Creation keywords stored on datasets by Rasterio versions < 1.0b1 will always be ignored in version 1.0. You may opt in to ignoring them now by setting RIO_IGNORE_CREATION_KWDS=TRUE in your environment.\n"
     ]
    },
    {
     "name": "stdout",
     "output_type": "stream",
     "text": [
      "{'type': 'Polygon', 'coordinates': [[[-115.307518, 36.263959], [-115.307518, 36.121278], [-115.152608, 36.121278], [-115.152608, 36.263959], [-115.307518, 36.263959]]]}\n",
      "CPU times: user 37.1 s, sys: 49.7 s, total: 1min 26s\n",
      "Wall time: 1min 28s\n"
     ]
    }
   ],
   "source": [
    "with rasterio.open(spacenetPath2) as dataset:\n",
    "    profile = dataset.profile\n",
    "        # Read the dataset's valid data mask as a ndarray.\n",
    "    mask = dataset.dataset_mask()\n",
    "    # Extract feature shapes and values from the array.\n",
    "    for geom, val in features.shapes(\n",
    "            mask, transform=dataset.transform):\n",
    "\n",
    "        # Transform shapes from the dataset's own coordinate\n",
    "        # reference system to CRS84 (EPSG:4326).\n",
    "        geom = rasterio.warp.transform_geom(\n",
    "            dataset.crs, 'EPSG:4326', geom, precision=6)\n",
    "\n",
    "        # Print GeoJSON shapes to stdout.\n",
    "        print(geom)"
   ]
  },
  {
   "cell_type": "code",
   "execution_count": 11,
   "metadata": {},
   "outputs": [],
   "source": [
    "from rasterio import features\n"
   ]
  },
  {
   "cell_type": "code",
   "execution_count": 8,
   "metadata": {},
   "outputs": [
    {
     "ename": "IndentationError",
     "evalue": "unexpected indent (<unknown>, line 2)",
     "output_type": "error",
     "traceback": [
      "Traceback \u001b[0;36m(most recent call last)\u001b[0m:\n",
      "  File \u001b[1;32m\"/home/dlindenbaum/miniconda3/envs/cw_environment/lib/python3.6/site-packages/IPython/core/interactiveshell.py\"\u001b[0m, line \u001b[1;32m2963\u001b[0m, in \u001b[1;35mrun_code\u001b[0m\n    exec(code_obj, self.user_global_ns, self.user_ns)\n",
      "  File \u001b[1;32m\"<ipython-input-8-6674c2100a1f>\"\u001b[0m, line \u001b[1;32m1\u001b[0m, in \u001b[1;35m<module>\u001b[0m\n    get_ipython().run_cell_magic('time', '', \"# Extract feature shapes and values from the array.\\n    for geom, val in rasterio.features.shapes(\\n            mask, transform=dataset.transform):\\n\\n        # Transform shapes from the dataset's own coordinate\\n        # reference system to CRS84 (EPSG:4326).\\n        geom = rasterio.warp.transform_geom(\\n            dataset.crs, 'EPSG:4326', geom, precision=6)\\n\\n        # Print GeoJSON shapes to stdout.\\n        print(geom)\")\n",
      "  File \u001b[1;32m\"/home/dlindenbaum/miniconda3/envs/cw_environment/lib/python3.6/site-packages/IPython/core/interactiveshell.py\"\u001b[0m, line \u001b[1;32m2167\u001b[0m, in \u001b[1;35mrun_cell_magic\u001b[0m\n    result = fn(magic_arg_s, cell)\n",
      "  File \u001b[1;32m\"<decorator-gen-62>\"\u001b[0m, line \u001b[1;32m2\u001b[0m, in \u001b[1;35mtime\u001b[0m\n",
      "  File \u001b[1;32m\"/home/dlindenbaum/miniconda3/envs/cw_environment/lib/python3.6/site-packages/IPython/core/magic.py\"\u001b[0m, line \u001b[1;32m187\u001b[0m, in \u001b[1;35m<lambda>\u001b[0m\n    call = lambda f, *a, **k: f(*a, **k)\n",
      "  File \u001b[1;32m\"/home/dlindenbaum/miniconda3/envs/cw_environment/lib/python3.6/site-packages/IPython/core/magics/execution.py\"\u001b[0m, line \u001b[1;32m1202\u001b[0m, in \u001b[1;35mtime\u001b[0m\n    expr_ast = self.shell.compile.ast_parse(expr)\n",
      "\u001b[0;36m  File \u001b[0;32m\"/home/dlindenbaum/miniconda3/envs/cw_environment/lib/python3.6/site-packages/IPython/core/compilerop.py\"\u001b[0;36m, line \u001b[0;32m99\u001b[0;36m, in \u001b[0;35mast_parse\u001b[0;36m\u001b[0m\n\u001b[0;31m    return compile(source, filename, symbol, self.flags | PyCF_ONLY_AST, 1)\u001b[0m\n",
      "\u001b[0;36m  File \u001b[0;32m\"<unknown>\"\u001b[0;36m, line \u001b[0;32m2\u001b[0m\n\u001b[0;31m    for geom, val in rasterio.features.shapes(\u001b[0m\n\u001b[0m    ^\u001b[0m\n\u001b[0;31mIndentationError\u001b[0m\u001b[0;31m:\u001b[0m unexpected indent\n"
     ]
    }
   ],
   "source": [
    "%%time\n"
   ]
  },
  {
   "cell_type": "code",
   "execution_count": 3,
   "metadata": {},
   "outputs": [
    {
     "data": {
      "text/plain": [
       "'1.0b1'"
      ]
     },
     "execution_count": 3,
     "metadata": {},
     "output_type": "execute_result"
    }
   ],
   "source": [
    "rasterio.__version__"
   ]
  },
  {
   "cell_type": "code",
   "execution_count": 3,
   "metadata": {},
   "outputs": [
    {
     "ename": "NameError",
     "evalue": "name 'src' is not defined",
     "output_type": "error",
     "traceback": [
      "\u001b[0;31m---------------------------------------------------------------------------\u001b[0m",
      "\u001b[0;31mNameError\u001b[0m                                 Traceback (most recent call last)",
      "\u001b[0;32m<ipython-input-3-2d748ae69acb>\u001b[0m in \u001b[0;36m<module>\u001b[0;34m()\u001b[0m\n\u001b[0;32m----> 1\u001b[0;31m \u001b[0msrc\u001b[0m\u001b[0;34m.\u001b[0m\u001b[0mprofile\u001b[0m\u001b[0;34m\u001b[0m\u001b[0m\n\u001b[0m",
      "\u001b[0;31mNameError\u001b[0m: name 'src' is not defined"
     ]
    }
   ],
   "source": [
    "src.profile"
   ]
  },
  {
   "cell_type": "code",
   "execution_count": 7,
   "metadata": {},
   "outputs": [
    {
     "data": {
      "text/plain": [
       "{'driver': 'GTiff', 'dtype': 'uint16', 'nodata': None, 'width': 57374, 'height': 52845, 'count': 8, 'crs': CRS({'init': 'epsg:4326'}), 'transform': Affine(2.700000010326571e-06, 0.0, -115.30751760000003,\n",
       "       0.0, -2.6999999973548978e-06, 36.2639592), 'blockxsize': 512, 'blockysize': 512, 'tiled': True, 'compress': 'deflate', 'interleave': 'pixel'}"
      ]
     },
     "execution_count": 7,
     "metadata": {},
     "output_type": "execute_result"
    }
   ],
   "source": [
    "profile"
   ]
  },
  {
   "cell_type": "code",
   "execution_count": 20,
   "metadata": {},
   "outputs": [],
   "source": [
    "import xml.etree.ElementTree as ET\n",
    "\n",
    "tree = ET.parse('/raid/nfs/data/Datasets/CosmiQ_SpaceNet_Src/AOI_2_Vegas/srcData/rasterData/Vegas_Imagery/15OCT22183656-P2AS-055649178030_01_P001.XML')\n",
    "root = tree.getroot()"
   ]
  },
  {
   "cell_type": "code",
   "execution_count": 14,
   "metadata": {},
   "outputs": [
    {
     "data": {
      "text/plain": [
       "'isd'"
      ]
     },
     "execution_count": 14,
     "metadata": {},
     "output_type": "execute_result"
    }
   ],
   "source": [
    "root.tag"
   ]
  },
  {
   "cell_type": "code",
   "execution_count": 39,
   "metadata": {},
   "outputs": [
    {
     "name": "stdout",
     "output_type": "stream",
     "text": [
      "{'VERSION': '28.0', 'GENERATIONTIME': '2016-08-26T22:41:55.000000Z', 'PRODUCTORDERID': '055649178030_01_P001', 'PRODUCTCATALOGID': 'A0100102027B8500', 'CHILDCATALOGID': '20300102027B8400', 'IMAGEDESCRIPTOR': 'Standard2A', 'BANDID': 'P', 'PANSHARPENALGORITHM': 'None', 'NUMROWS': '52845', 'NUMCOLUMNS': '57374', 'PRODUCTLEVEL': 'LV2A', 'PRODUCTTYPE': 'Standard', 'NUMBEROFLOOKS': '1', 'RADIOMETRICLEVEL': 'Corrected', 'RADIOMETRICENHANCEMENT': 'Off', 'BITSPERPIXEL': '16', 'COMPRESSIONTYPE': 'None', 'OUTPUTFORMAT': 'GeoTIFF', 'BAND_P': '\\n\\t\\t\\t', 'SATID': 'WV03', 'MODE': 'FullSwath', 'SCANDIRECTION': 'Forward', 'CATID': '10400100137F4900', 'FIRSTLINETIME': '2015-10-22T18:36:56.065137Z', 'AVGLINERATE': '2.000007000000000e+04', 'EXPOSUREDURATION': '5.000000000000000e-05', 'MINCOLLECTEDROWGSD': '3.370000000000000e-01', 'MAXCOLLECTEDROWGSD': '3.370000000000000e-01', 'MEANCOLLECTEDROWGSD': '3.370000000000000e-01', 'MINCOLLECTEDCOLGSD': '3.290000000000000e-01', 'MAXCOLLECTEDCOLGSD': '3.300000000000000e-01', 'MEANCOLLECTEDCOLGSD': '3.290000000000000e-01', 'MEANCOLLECTEDGSD': '3.330000000000000e-01', 'ROWUNCERTAINTY': '2.355000000000000e+01', 'COLUNCERTAINTY': '1.386000000000000e+01', 'MINSUNAZ': '1.640000000000000e+02', 'MAXSUNAZ': '1.641000000000000e+02', 'MEANSUNAZ': '1.640000000000000e+02', 'MINSUNEL': '4.140000000000000e+01', 'MAXSUNEL': '4.160000000000000e+01', 'MEANSUNEL': '4.150000000000000e+01', 'MINSATAZ': '1.489000000000000e+02', 'MAXSATAZ': '1.522000000000000e+02', 'MEANSATAZ': '1.506000000000000e+02', 'MINSATEL': '7.070000000000000e+01', 'MAXSATEL': '7.190000000000001e+01', 'MEANSATEL': '7.130000000000000e+01', 'MININTRACKVIEWANGLE': '-1.310000000000000e+01', 'MAXINTRACKVIEWANGLE': '-1.300000000000000e+01', 'MEANINTRACKVIEWANGLE': '-1.310000000000000e+01', 'MINCROSSTRACKVIEWANGLE': '1.060000000000000e+01', 'MAXCROSSTRACKVIEWANGLE': '1.090000000000000e+01', 'MEANCROSSTRACKVIEWANGLE': '1.070000000000000e+01', 'MINOFFNADIRVIEWANGLE': '1.680000000000000e+01', 'MAXOFFNADIRVIEWANGLE': '1.690000000000000e+01', 'MEANOFFNADIRVIEWANGLE': '1.680000000000000e+01', 'PNIIRS': '5.600000000000000e+00', 'CLOUDCOVER': '0.000000000000000e+00', 'RESAMPLINGKERNEL': 'MTF', 'POSITIONKNOWLEDGESRC': 'R', 'ATTITUDEKNOWLEDGESRC': 'R', 'REVNUMBER': '6457', 'MAP_PROJECTED_PRODUCT': '\\n\\t\\t\\t', 'TIL': '\\n\\t\\t', 'RPB': '\\n\\t\\t'}\n"
     ]
    },
    {
     "data": {
      "text/plain": [
       "{'VERSION': '28.0',\n",
       " 'GENERATIONTIME': '2016-08-26T22:41:55.000000Z',\n",
       " 'PRODUCTORDERID': '055649178030_01_P001',\n",
       " 'PRODUCTCATALOGID': 'A0100102027B8500',\n",
       " 'CHILDCATALOGID': '20300102027B8400',\n",
       " 'IMAGEDESCRIPTOR': 'Standard2A',\n",
       " 'BANDID': 'P',\n",
       " 'PANSHARPENALGORITHM': 'None',\n",
       " 'NUMROWS': '52845',\n",
       " 'NUMCOLUMNS': '57374',\n",
       " 'PRODUCTLEVEL': 'LV2A',\n",
       " 'PRODUCTTYPE': 'Standard',\n",
       " 'NUMBEROFLOOKS': '1',\n",
       " 'RADIOMETRICLEVEL': 'Corrected',\n",
       " 'RADIOMETRICENHANCEMENT': 'Off',\n",
       " 'BITSPERPIXEL': '16',\n",
       " 'COMPRESSIONTYPE': 'None',\n",
       " 'OUTPUTFORMAT': 'GeoTIFF',\n",
       " 'BAND_P': '\\n\\t\\t\\t',\n",
       " 'SATID': 'WV03',\n",
       " 'MODE': 'FullSwath',\n",
       " 'SCANDIRECTION': 'Forward',\n",
       " 'CATID': '10400100137F4900',\n",
       " 'FIRSTLINETIME': '2015-10-22T18:36:56.065137Z',\n",
       " 'AVGLINERATE': '2.000007000000000e+04',\n",
       " 'EXPOSUREDURATION': '5.000000000000000e-05',\n",
       " 'MINCOLLECTEDROWGSD': '3.370000000000000e-01',\n",
       " 'MAXCOLLECTEDROWGSD': '3.370000000000000e-01',\n",
       " 'MEANCOLLECTEDROWGSD': '3.370000000000000e-01',\n",
       " 'MINCOLLECTEDCOLGSD': '3.290000000000000e-01',\n",
       " 'MAXCOLLECTEDCOLGSD': '3.300000000000000e-01',\n",
       " 'MEANCOLLECTEDCOLGSD': '3.290000000000000e-01',\n",
       " 'MEANCOLLECTEDGSD': '3.330000000000000e-01',\n",
       " 'ROWUNCERTAINTY': '2.355000000000000e+01',\n",
       " 'COLUNCERTAINTY': '1.386000000000000e+01',\n",
       " 'MINSUNAZ': '1.640000000000000e+02',\n",
       " 'MAXSUNAZ': '1.641000000000000e+02',\n",
       " 'MEANSUNAZ': '1.640000000000000e+02',\n",
       " 'MINSUNEL': '4.140000000000000e+01',\n",
       " 'MAXSUNEL': '4.160000000000000e+01',\n",
       " 'MEANSUNEL': '4.150000000000000e+01',\n",
       " 'MINSATAZ': '1.489000000000000e+02',\n",
       " 'MAXSATAZ': '1.522000000000000e+02',\n",
       " 'MEANSATAZ': '1.506000000000000e+02',\n",
       " 'MINSATEL': '7.070000000000000e+01',\n",
       " 'MAXSATEL': '7.190000000000001e+01',\n",
       " 'MEANSATEL': '7.130000000000000e+01',\n",
       " 'MININTRACKVIEWANGLE': '-1.310000000000000e+01',\n",
       " 'MAXINTRACKVIEWANGLE': '-1.300000000000000e+01',\n",
       " 'MEANINTRACKVIEWANGLE': '-1.310000000000000e+01',\n",
       " 'MINCROSSTRACKVIEWANGLE': '1.060000000000000e+01',\n",
       " 'MAXCROSSTRACKVIEWANGLE': '1.090000000000000e+01',\n",
       " 'MEANCROSSTRACKVIEWANGLE': '1.070000000000000e+01',\n",
       " 'MINOFFNADIRVIEWANGLE': '1.680000000000000e+01',\n",
       " 'MAXOFFNADIRVIEWANGLE': '1.690000000000000e+01',\n",
       " 'MEANOFFNADIRVIEWANGLE': '1.680000000000000e+01',\n",
       " 'PNIIRS': '5.600000000000000e+00',\n",
       " 'CLOUDCOVER': '0.000000000000000e+00',\n",
       " 'RESAMPLINGKERNEL': 'MTF',\n",
       " 'POSITIONKNOWLEDGESRC': 'R',\n",
       " 'ATTITUDEKNOWLEDGESRC': 'R',\n",
       " 'REVNUMBER': '6457',\n",
       " 'MAP_PROJECTED_PRODUCT': '\\n\\t\\t\\t',\n",
       " 'TIL': '\\n\\t\\t',\n",
       " 'RPB': '\\n\\t\\t'}"
      ]
     },
     "execution_count": 39,
     "metadata": {},
     "output_type": "execute_result"
    }
   ],
   "source": [
    "import xml.etree.ElementTree as ET\n",
    "xmlTest = '/raid/nfs/data/Datasets/CosmiQ_SpaceNet_Src/AOI_2_Vegas/srcData/rasterData/Vegas_Imagery/15OCT22183656-P2AS-055649178030_01_P001.XML'\n",
    "def iterate_OverXML(root, recursionTagList=[], metaDataStruct={}):\n",
    "    \n",
    "    for child in root:\n",
    "        if child.tag in recursionTagList:\n",
    "            metaDataStruct = iterate_OverXML(child, recursionTagList, metaDataStruct)\n",
    "        else:\n",
    "            metaDataStruct[child.tag] = child.text\n",
    "    \n",
    "    return metaDataStruct\n",
    "            \n",
    "tree = ET.parse(xmlTest)\n",
    "root = tree.getroot()\n",
    "metaDataStruct = iterate_OverXML(root, recursionTagList=['IMD', 'IMAGE'])\n",
    "print(metaDataStruct)\n",
    "metaDataStruct"
   ]
  },
  {
   "cell_type": "code",
   "execution_count": 24,
   "metadata": {},
   "outputs": [],
   "source": [
    "provider='DigitalGlobe'\n",
    "license=\"'CC 4.0 SA' '(C) COPYRIGHT 2016 DigitalGlobe, Inc., Longmont CO USA 80503'\"\n",
    "\n",
    "def processMetaData_To_Properties(metaDataStruct, provider, license):\n",
    "    eoDict = {\n",
    "        \"eo:sun_azimuth\": metaDataStruct['MEANSUNAZ'],\n",
    "        \"eo:cloud_cover\": metaDataSturct['CLOUDCOVER'],\n",
    "        \"eo:off_nadir\": metaDataStruct['MEANOFFNADIRVIEWANGLE'],\n",
    "        \"eo:azimuth\": metaDataStruct['MEANSATAZ'],\n",
    "        \"eo:platform\": metaDataStruct['SATID'],\n",
    "        \"eo:sun_elevation\": metaDataStruct['MEANSUNEL'],\n",
    "        \"eo:gsd\": metaDataStruct['MEANCOLLECTEDGSD'],\n",
    "        \"eo:crs\": null,\n",
    "        \"dg:catalog_id\": metaDataStruct['CATID'],\n",
    "        \"dg:platform\": metaDataStruct['SATID'],\n",
    "        \"dg:product_level\": metaDataStruct['PRODUCTLEVEL'],\n",
    "        \"datetime\": metaDataStruct['FIRSTLINETIME'],\n",
    "        \"provider\": provider,\n",
    "        \"license\": license\n",
    "        }\n",
    "    \n",
    "    return eoDict"
   ]
  },
  {
   "cell_type": "code",
   "execution_count": 27,
   "metadata": {},
   "outputs": [
    {
     "name": "stdout",
     "output_type": "stream",
     "text": [
      "VERSION {} 28.0\n",
      "GENERATIONTIME {} 2016-08-26T22:41:55.000000Z\n",
      "PRODUCTORDERID {} 055649178030_01_P001\n",
      "PRODUCTCATALOGID {} A0100102027B8500\n",
      "CHILDCATALOGID {} 20300102027B8400\n",
      "IMAGEDESCRIPTOR {} Standard2A\n",
      "BANDID {} P\n",
      "PANSHARPENALGORITHM {} None\n",
      "NUMROWS {} 52845\n",
      "NUMCOLUMNS {} 57374\n",
      "PRODUCTLEVEL {} LV2A\n",
      "PRODUCTTYPE {} Standard\n",
      "NUMBEROFLOOKS {} 1\n",
      "RADIOMETRICLEVEL {} Corrected\n",
      "RADIOMETRICENHANCEMENT {} Off\n",
      "BITSPERPIXEL {} 16\n",
      "COMPRESSIONTYPE {} None\n",
      "OUTPUTFORMAT {} GeoTIFF\n",
      "BAND_P {} \n",
      "\t\t\t\n",
      "IMAGE {} \n",
      "\t\t\t\n",
      "MAP_PROJECTED_PRODUCT {} \n",
      "\t\t\t\n"
     ]
    }
   ],
   "source": [
    "for child in imgChild:\n",
    "    print(child.tag, child.attrib, child.text)"
   ]
  },
  {
   "cell_type": "code",
   "execution_count": 30,
   "metadata": {},
   "outputs": [
    {
     "data": {
      "text/plain": [
       "'VERSION'"
      ]
     },
     "execution_count": 30,
     "metadata": {},
     "output_type": "execute_result"
    }
   ],
   "source": [
    "root[0][0].tag"
   ]
  },
  {
   "cell_type": "code",
   "execution_count": 41,
   "metadata": {},
   "outputs": [
    {
     "data": {
      "text/plain": [
       "'11'"
      ]
     },
     "execution_count": 41,
     "metadata": {},
     "output_type": "execute_result"
    }
   ],
   "source": []
  },
  {
   "cell_type": "code",
   "execution_count": 5,
   "metadata": {},
   "outputs": [
    {
     "data": {
      "text/plain": [
       "2500.0"
      ]
     },
     "execution_count": 5,
     "metadata": {},
     "output_type": "execute_result"
    }
   ],
   "source": [
    "5000/2"
   ]
  },
  {
   "cell_type": "code",
   "execution_count": 6,
   "metadata": {},
   "outputs": [
    {
     "data": {
      "text/plain": [
       "1250.0"
      ]
     },
     "execution_count": 6,
     "metadata": {},
     "output_type": "execute_result"
    }
   ],
   "source": [
    "5000/4"
   ]
  },
  {
   "cell_type": "code",
   "execution_count": 7,
   "metadata": {},
   "outputs": [
    {
     "data": {
      "text/plain": [
       "1.024"
      ]
     },
     "execution_count": 7,
     "metadata": {},
     "output_type": "execute_result"
    }
   ],
   "source": [
    "512/500"
   ]
  },
  {
   "cell_type": "code",
   "execution_count": 8,
   "metadata": {},
   "outputs": [
    {
     "data": {
      "text/plain": [
       "9.765625"
      ]
     },
     "execution_count": 8,
     "metadata": {},
     "output_type": "execute_result"
    }
   ],
   "source": [
    "5000/512"
   ]
  },
  {
   "cell_type": "code",
   "execution_count": null,
   "metadata": {},
   "outputs": [],
   "source": []
  }
 ],
 "metadata": {
  "kernelspec": {
   "display_name": "Python [conda env:cw_environment]",
   "language": "python",
   "name": "conda-env-cw_environment-py"
  },
  "language_info": {
   "codemirror_mode": {
    "name": "ipython",
    "version": 3
   },
   "file_extension": ".py",
   "mimetype": "text/x-python",
   "name": "python",
   "nbconvert_exporter": "python",
   "pygments_lexer": "ipython3",
   "version": "3.6.5"
  }
 },
 "nbformat": 4,
 "nbformat_minor": 2
}

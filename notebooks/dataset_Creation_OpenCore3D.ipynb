{
 "cells": [
  {
   "cell_type": "code",
   "execution_count": null,
   "metadata": {},
   "outputs": [],
   "source": [
    "baseLoc = \"/raid/nfs/data/Datasets/CosmiQ_General_Study/CORE3D-Public-Data/Satellite-Images/\"\n",
    "\n",
    "\n",
    "from os import walk\n",
    "import os\n",
    "f = []\n",
    "baseLoc\n",
    "for (dirpath, dirnames, filenames) in walk(baseLoc):\n",
    " f.extend([os.path.join(dirpath, filename) for filename in filenames])\n",
    "\n",
    "\n",
    " "
   ]
  },
  {
   "cell_type": "code",
   "execution_count": null,
   "metadata": {},
   "outputs": [],
   "source": [
    "from os import walk\n",
    "import os\n",
    "f = []\n",
    "ftype = []\n",
    "mypath = baseLoc\n",
    "for (dirpath, dirnames, filenames) in walk(mypath):\n",
    "    #print(os.path.basename(dirpath))\n",
    "    \n",
    "    f.extend([os.path.join(dirpath, file) for file in filenames])\n",
    "    ftype.extend([os.path.basename(dirpath) for file in filenames])\n",
    "\n",
    "basename_list = []\n",
    "ext_list      = []\n",
    "\n",
    "cell_list = {}\n",
    "idstr_list = []\n",
    "imtype_list = []\n",
    "sloc_list = []\n",
    "realF = []\n",
    "for file in f:\n",
    "    basename = os.path.basename(file)\n",
    "    \n",
    "    basesplit = basename.split('-')\n",
    "    try: \n",
    "        idStr = basesplit[0]\n",
    "        imType = basesplit[1]\n",
    "        realF.append(file)\n",
    "\n",
    "\n",
    "        idstr_list.append(basesplit[0])\n",
    "        imtype_list.append(basesplit[1])\n",
    "        basename_list.append(os.path.basename(file))\n",
    "        ext_list.append(os.path.splitext(file)[1])\n",
    "        sloc_list.append(file.replace('/raid/nfs/data/Datasets/CosmiQ_General_Study/CORE3D-Public-Data/', 's3://spacenet-dataset/CORE3D-Public-Data/'))\n",
    "    except:\n",
    "        print(file)\n",
    "    \n",
    "import pandas as pd\n",
    "\n",
    "dataList = {'idstr': idstr_list,\n",
    "           \"imtype\": imtype_list,\n",
    "           \"basename\": basename_list,\n",
    "           \"ext\": ext_list,\n",
    "           \"filepath\": realF,\n",
    "            \"s3loc\": sloc_list\n",
    "           }\n",
    "df = pd.DataFrame(dataList)"
   ]
  },
  {
   "cell_type": "code",
   "execution_count": null,
   "metadata": {},
   "outputs": [],
   "source": [
    "cogLoc = \"/raid/nfs/data/Datasets/CosmiQ_General_Study/MVS_Dataset/WV3/COG/\"\n",
    "# This step is to create a VRT with georeferencing that can be read by Rasterio\n",
    "computeVRT = True\n",
    "if computeVRT:\n",
    "    smallDF = df[df['ext']=='.NTF']\n",
    "    from tqdm import tqdm\n",
    "    import subprocess\n",
    "    for filepath, basename in tqdm(zip(smallDF['filepath'].values, smallDF['basename'].values)):\n",
    "        print(basename)\n",
    "        cmd = ['gdalwarp', '-rpc', '-wo', 'NUM_THREADS=8', '-multi', '-of', 'VRT', filepath, filepath.replace(\".NTF\", \".vrt\")]\n",
    "        subprocess.run(cmd, stdout=subprocess.PIPE)\n",
    "    \n",
    "    "
   ]
  },
  {
   "cell_type": "code",
   "execution_count": null,
   "metadata": {},
   "outputs": [],
   "source": [
    "print(len(dataList['idstr']))\n",
    "print(len(dataList['imtype']))\n",
    "print(len(dataList['basename']))\n",
    "print(len(dataList['ext']))\n",
    "print(len(dataList['filepath']))\n",
    "print(len(dataList['s3loc']))"
   ]
  },
  {
   "cell_type": "code",
   "execution_count": null,
   "metadata": {},
   "outputs": [],
   "source": [
    "print(df.columns)\n",
    "df['ext'].unique()"
   ]
  },
  {
   "cell_type": "code",
   "execution_count": null,
   "metadata": {},
   "outputs": [],
   "source": [
    "idstrUnique = df['idstr'].unique()\n",
    "uniqueDf = df[df['idstr']==idstrUnique[0]]\n",
    "uniqueDf.head()"
   ]
  },
  {
   "cell_type": "code",
   "execution_count": null,
   "metadata": {},
   "outputs": [],
   "source": [
    "smallDF.head()"
   ]
  },
  {
   "cell_type": "code",
   "execution_count": null,
   "metadata": {},
   "outputs": [],
   "source": []
  }
 ],
 "metadata": {
  "kernelspec": {
   "display_name": "Python [conda env:cw_environment]",
   "language": "python",
   "name": "conda-env-cw_environment-py"
  },
  "language_info": {
   "codemirror_mode": {
    "name": "ipython",
    "version": 3
   },
   "file_extension": ".py",
   "mimetype": "text/x-python",
   "name": "python",
   "nbconvert_exporter": "python",
   "pygments_lexer": "ipython3",
   "version": "3.6.5"
  }
 },
 "nbformat": 4,
 "nbformat_minor": 2
}
